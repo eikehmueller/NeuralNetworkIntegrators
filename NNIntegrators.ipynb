{
 "cells": [
  {
   "cell_type": "markdown",
   "metadata": {},
   "source": [
    "## Neural network integrators\n",
    "Let $q(t)=(x(t),p(t))\\in\\mathbb{R}^{2d}$ be the state vector. Two methods are implemented to advance this state vector in time:\n",
    "\n",
    "### Multistep neural network\n",
    "The `MultistepNNIntegrator` class is used to implement a neural network based integrator with a $S$-step method. This is integrating a given $d$-dimensional system $\\frac{dq(t)}{dt}=\\mathcal{N}(q(t))$. The underlying neural model implements the mapping\n",
    "\n",
    "$$\n",
    "q^{(t-(S-1)\\Delta t)},\\dots,q^{(t-\\Delta t)},q^{(t)} \\mapsto q^{(t+\\Delta t)}\n",
    "$$\n",
    "\n",
    "Internally this is realised by mapping the $B\\times S \\times d$ tensor $X$ to the $B\\times d$ tensor $y$, where $B$ is the minibatch-size. This mapping is of the following form:\n",
    "\n",
    "$$\n",
    "y_{b,j} = X_{b,S-1,j} + \\Delta t \\cdot \\Phi_{bj}(X)\n",
    "$$\n",
    "\n",
    "where $\\Phi$ is a dense neural network. Note that for each batch index $b$, $X_{b,S-1,\\cdot}$ is simply the vector $q^{(t)}_b$, i.e. we assume that $q^{(t+\\Delta t)}$ is $q^{(t)}$ plus $\\Delta t$ times some correction. The neural network $\\Phi$ can take different form:\n",
    "* it can simply be a set of dense layers or\n",
    "* it can be a two-layer LSTM network, followed by a dense layer as in [https://arxiv.org/abs/2004.06493](https://arxiv.org/abs/2004.06493)\n",
    "\n",
    "### Hamiltonian neural network integrator\n",
    "Alternatively, the `HamiltonianVerletNNIntegrator` implements a single-step Stoermer-Verlet method for a Hamiltonian system, following the ideas in [https://arxiv.org/abs/1906.01563](https://arxiv.org/abs/1906.01563). In this case the update $q^{(t)}\\mapsto q^{(t+\\Delta t)}$ takes the form:\n",
    "\n",
    "$$\n",
    "\\begin{aligned}\n",
    "p^{(t+\\Delta t/2)} &= p^{(t)} - \\frac{\\Delta t}{2} \\frac{\\partial V}{\\partial x}\\left(x^{(t)}\\right)\\\\[1ex]\n",
    "x^{(t+\\Delta t)} &= x^{(t)} + \\Delta t \\frac{\\partial T}{\\partial p}\\left(p^{(t+\\Delta t/2)}\\right)\\\\[1ex]\n",
    "p^{(t+\\Delta t)} &= p^{(t)} - \\frac{\\Delta t}{2} \\frac{\\partial V}{\\partial x}\\left(x^{(t+\\Delta t)}\\right)\n",
    "\\end{aligned}\n",
    "$$\n",
    "\n",
    "Assuming that the Hamiltonian $H(x,p) = T(p) + V(x)$ is separable, the kinetic energy $T(p)$ and potential energy $V(x)$ are represented by neural networks."
   ]
  },
  {
   "cell_type": "markdown",
   "metadata": {},
   "source": []
  }
 ],
 "metadata": {
  "kernelspec": {
   "display_name": "Python 3.9.12 64-bit",
   "language": "python",
   "name": "python3"
  },
  "language_info": {
   "name": "python",
   "version": "3.9.12"
  },
  "orig_nbformat": 4,
  "vscode": {
   "interpreter": {
    "hash": "949777d72b0d2535278d3dc13498b2535136f6dfe0678499012e853ee9abcab1"
   }
  }
 },
 "nbformat": 4,
 "nbformat_minor": 2
}
