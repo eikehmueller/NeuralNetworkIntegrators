{
 "cells": [
  {
   "cell_type": "markdown",
   "id": "outstanding-tsunami",
   "metadata": {},
   "source": [
    "# Visualise forward Euler and Verlet integrators for Lennart Jones potential"
   ]
  },
  {
   "cell_type": "code",
   "execution_count": 1,
   "id": "textile-uncertainty",
   "metadata": {},
   "outputs": [],
   "source": [
    "import numpy as np\n",
    "from matplotlib import pyplot as plt\n",
    "from dynamical_system import *\n",
    "from time_integrator import *"
   ]
  },
  {
   "cell_type": "markdown",
   "id": "b42cedea",
   "metadata": {},
   "source": [
    "## Lennart Jones potential"
   ]
  },
  {
   "cell_type": "code",
   "execution_count": 2,
   "id": "empirical-creek",
   "metadata": {},
   "outputs": [
    {
     "data": {
      "image/png": "[encoded data removed]",
      "text/plain": [
       "<Figure size 432x288 with 1 Axes>"
      ]
     },
     "metadata": {
      "needs_background": "light"
     },
     "output_type": "display_data"
    }
   ],
   "source": [
    "np.random.seed(2513517)\n",
    "# Mass of particles\n",
    "mass = 1.0\n",
    "# Size of simulation box\n",
    "boxsize = 4.0\n",
    "# Number of particles\n",
    "npart = 4\n",
    "# kinetic energy scale\n",
    "epsilon_kin=0.1\n",
    "dt = 0.1\n",
    "T_final = 16.0\n",
    "dynamical_system = LennartJonesSystem(mass,npart,boxsize,epsilon_kin=epsilon_kin)\n",
    "dim = dynamical_system.dim\n",
    "forward_euler_integrator = ForwardEulerIntegrator(dynamical_system,dt)\n",
    "verlet_integrator = VerletIntegrator(dynamical_system,dt)\n",
    "x = np.zeros(dim)\n",
    "v = np.zeros(dim)\n",
    "dynamical_system.set_random_state(x,v)\n",
    "dynamical_system.visualise_configuration(x,v)"
   ]
  },
  {
   "cell_type": "markdown",
   "id": "2fc86028",
   "metadata": {},
   "source": [
    "### Trajectories"
   ]
  },
  {
   "cell_type": "code",
   "execution_count": null,
   "id": "original-grounds",
   "metadata": {},
   "outputs": [],
   "source": [
    "n_step = int(T_final/dt)\n",
    "energies = np.zeros((2,n_step))\n",
    "\n",
    "for j, integrator in enumerate((forward_euler_integrator,verlet_integrator)):\n",
    "    integrator.set_state(x,v)\n",
    "    for k in range(n_step):\n",
    "        energies[j,k] = dynamical_system.energy(integrator.x,integrator.v)\n",
    "        integrator.integrate(1)\n",
    "        filename = './output/lennart_jones_'+integrator.label+'_'+('%04d' % k)+'.jpg'\n",
    "        dynamical_system.visualise_configuration(integrator.x,integrator.v,filename=filename)"
   ]
  },
  {
   "cell_type": "markdown",
   "id": "enclosed-activity",
   "metadata": {},
   "source": [
    "### Energy drift"
   ]
  },
  {
   "cell_type": "code",
   "execution_count": null,
   "id": "confident-cyprus",
   "metadata": {},
   "outputs": [],
   "source": [
    "plt.clf()\n",
    "figs, axs = plt.subplots(2,1)\n",
    "X = dt*np.arange(n_step)\n",
    "axs[0].plot(X,energies[0,:]-energies[0,0],linewidth=2,color='blue')\n",
    "axs[0].set_ylabel('energy drift $E(t)-E(0)$')\n",
    "axs[0].set_title('forward Euler')\n",
    "axs[1].plot(X,energies[1,:]-energies[1,0],linewidth=2,color='red')\n",
    "axs[1].set_title('Verlet')\n",
    "axs[1].set_xlabel('time $t$')\n",
    "axs[1].set_ylabel('energy drift $E(t)-E(0)$')\n",
    "plt.savefig('energies.pdf',bbox_inches='tight')"
   ]
  },
  {
   "cell_type": "code",
   "execution_count": null,
   "id": "centered-dealer",
   "metadata": {},
   "outputs": [],
   "source": []
  }
 ],
 "metadata": {
  "kernelspec": {
   "display_name": "Python 3",
   "language": "python",
   "name": "python3"
  },
  "language_info": {
   "codemirror_mode": {
    "name": "ipython",
    "version": 3
   },
   "file_extension": ".py",
   "mimetype": "text/x-python",
   "name": "python",
   "nbconvert_exporter": "python",
   "pygments_lexer": "ipython3",
   "version": "3.9.10"
  }
 },
 "nbformat": 4,
 "nbformat_minor": 5
}
